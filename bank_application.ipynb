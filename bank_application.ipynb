{
 "cells": [
  {
   "cell_type": "code",
   "execution_count": 1,
   "id": "4bbc7e0d",
   "metadata": {},
   "outputs": [],
   "source": [
    "from getpass import getpass"
   ]
  },
  {
   "cell_type": "code",
   "execution_count": 2,
   "id": "885515d9",
   "metadata": {},
   "outputs": [],
   "source": [
    "data = {1001:[\"sachin\", \"sachin@123\", 120000, \"abcde@1\"]}"
   ]
  },
  {
   "cell_type": "code",
   "execution_count": 3,
   "id": "5f2f5a5e",
   "metadata": {},
   "outputs": [],
   "source": [
    "def password_validation(password):\n",
    "    lower = 0\n",
    "    upper = 0\n",
    "    number = 0\n",
    "    special = 0\n",
    "    \n",
    "    for i in password:\n",
    "        if i.islower():\n",
    "            lower += 1\n",
    "        elif i.isupper():\n",
    "            upper += 1\n",
    "        elif i.isdigit():\n",
    "            number += 1\n",
    "        elif not (i.isidentifier()):\n",
    "            special += 1\n",
    "            \n",
    "    if lower>=1 and upper>=1 and number>=1 and special>=1 and len(password)>=8:\n",
    "        return True\n",
    "    else:\n",
    "        return False"
   ]
  },
  {
   "cell_type": "code",
   "execution_count": 4,
   "id": "c6936c60",
   "metadata": {},
   "outputs": [
    {
     "data": {
      "text/plain": [
       "True"
      ]
     },
     "execution_count": 4,
     "metadata": {},
     "output_type": "execute_result"
    }
   ],
   "source": [
    "password_validation(\"Sachin@12\")"
   ]
  },
  {
   "cell_type": "code",
   "execution_count": 5,
   "id": "0949f53a",
   "metadata": {},
   "outputs": [],
   "source": [
    "def signup():\n",
    "    user_name = input(\"ENTER USER NAME:\")\n",
    "    password = getpass(\"ENTER PASSWORD:\")\n",
    "    security_code = getpass(\"ENTER SECURITY CODE:\")\n",
    "    \n",
    "    if password_validation(password):\n",
    "        print(\"Initial amount of 5000/- is required to activate your account\")\n",
    "        print(\"if you are agree enter yes(y) otherwise no(n): \")\n",
    "        choice = input(\"enter your choice y/n:\").lower()\n",
    "        if choice == 'y':\n",
    "            acc_no = list(data.keys())[-1]\n",
    "            balance =5000\n",
    "            data[acc_no]= [user_name, password, balance, security_code]\n",
    "            print(\"Account created successfully\")\n",
    "            print(\"your account number is: \", acc_no)\n",
    "            \n",
    "        else:\n",
    "            print(\"sorry we can not create account for you because initial amount is 5000/- \")\n",
    "            print(\"Thanks for giving your time\")\n",
    "            \n",
    "    else:\n",
    "        print(\"password is not valid\")\n",
    "        "
   ]
  },
  {
   "cell_type": "code",
   "execution_count": 6,
   "id": "a0d46b8c",
   "metadata": {},
   "outputs": [
    {
     "name": "stdout",
     "output_type": "stream",
     "text": [
      "ENTER USER NAME:sachin\n",
      "ENTER PASSWORD:········\n",
      "ENTER SECURITY CODE:········\n",
      "Initial amount of 5000/- is required to activate your account\n",
      "if you are agree enter yes(y) otherwise no(n): \n",
      "enter your choice y/n:y\n",
      "Account created successfully\n",
      "your account number is:  1001\n"
     ]
    }
   ],
   "source": [
    "signup()"
   ]
  },
  {
   "cell_type": "code",
   "execution_count": 7,
   "id": "5cec01b7",
   "metadata": {},
   "outputs": [],
   "source": [
    "def  login():\n",
    "    acc_no = int(input(\"enter your account no: \"))\n",
    "    password = getpass(\"enter your password: \")\n",
    "    if acc_no in data.keys() and password == data[acc_no][1]:\n",
    "        print(\"login successfilly\")\n",
    "    while True:\n",
    "        print(\"1 credit\")\n",
    "        print(\"2 debit\")\n",
    "        print(\"3 change password\")\n",
    "        print(\"4 check balance\")\n",
    "        print(\"5 show details\")\n",
    "        print(\"6 logout\")\n",
    "        \n",
    "        choice = int(input(\"enter your choice number: \"))\n",
    "        if choice == 1:\n",
    "            credit_amount = float(input(\"enter your amount for credit: \"))\n",
    "            data[acc_no][2] += credit_amount\n",
    "            print(\"amount credited successfully\")\n",
    "            \n",
    "        elif choice == 2:\n",
    "            debit_amount = float(input(\"enter your amount for debit: \"))\n",
    "            if(data[acc_no][2] - debit_amount) >= 5000:\n",
    "                data[acc_no][2] -= debit_amount\n",
    "                print(\"amount debited successfully\")\n",
    "            else:\n",
    "                print(\"not enough balance\")\n",
    "                \n",
    "        \n",
    "        elif choice == 3:\n",
    "            old_password == getpass(\"enter old password: \")\n",
    "            if old_password == data[acc_no][1]:\n",
    "                new_password = getpass(\"enter new password:\")\n",
    "                if password_validation(new_password):\n",
    "                    data[acc_no][1]== new_password\n",
    "                    print(\"password change successfully\")\n",
    "                else:\n",
    "                    print(\"password is not valid\")\n",
    "            else:\n",
    "                print(\"old password is not correct...try again\")\n",
    "                \n",
    "        elif choice == 4:\n",
    "            password = getpass(\"enter password:\")\n",
    "            if password == data[acc_no][1]:\n",
    "                print(\"your balance is:\", data[acc_no][2])\n",
    "            else:\n",
    "                print(\"wrong password\")\n",
    "                \n",
    "        elif choice == 5:\n",
    "            password = getpass(\"enter password:\")\n",
    "            if password == data[acc_no][1]:\n",
    "                print(\"account details: \")\n",
    "                print(\"user name: \", data[acc_no][0])\n",
    "                print(\"account no: \", acc_no)\n",
    "            else:\n",
    "                print(\"wrong password\")\n",
    "                \n",
    "        elif choice == 6:\n",
    "            break\n",
    "        else: \n",
    "            print(\"invalid choice\")\n",
    "            \n",
    "    else:\n",
    "        print(\"wrong account no / password\")\n",
    "        \n",
    " "
   ]
  },
  {
   "cell_type": "code",
   "execution_count": 8,
   "id": "d2b7e8e3",
   "metadata": {},
   "outputs": [
    {
     "name": "stdout",
     "output_type": "stream",
     "text": [
      "enter your account no: 1001\n",
      "enter your password: ········\n",
      "login successfilly\n",
      "1 credit\n",
      "2 debit\n",
      "3 change password\n",
      "4 check balance\n",
      "5 show details\n",
      "6 logout\n",
      "enter your choice number: 1\n",
      "enter your amount for credit: 2000\n",
      "amount credited successfully\n",
      "1 credit\n",
      "2 debit\n",
      "3 change password\n",
      "4 check balance\n",
      "5 show details\n",
      "6 logout\n",
      "enter your choice number: 6\n"
     ]
    }
   ],
   "source": [
    "login()"
   ]
  },
  {
   "cell_type": "markdown",
   "id": "923c5622",
   "metadata": {},
   "source": []
  },
  {
   "cell_type": "code",
   "execution_count": 9,
   "id": "c310e4e7",
   "metadata": {},
   "outputs": [
    {
     "name": "stdout",
     "output_type": "stream",
     "text": [
      "1. login\n",
      "2. signup\n",
      "3. forget_password\n",
      "4. Exit\n",
      "enter your choice1\n",
      "enter your account no: 1001\n",
      "enter your password: ········\n",
      "login successfilly\n",
      "1 credit\n",
      "2 debit\n",
      "3 change password\n",
      "4 check balance\n",
      "5 show details\n",
      "6 logout\n",
      "enter your choice number: 1\n",
      "enter your amount for credit: 2000\n",
      "amount credited successfully\n",
      "1 credit\n",
      "2 debit\n",
      "3 change password\n",
      "4 check balance\n",
      "5 show details\n",
      "6 logout\n",
      "enter your choice number: 5\n",
      "enter password:········\n",
      "account details: \n",
      "user name:  sachin\n",
      "account no:  1001\n",
      "1 credit\n",
      "2 debit\n",
      "3 change password\n",
      "4 check balance\n",
      "5 show details\n",
      "6 logout\n",
      "enter your choice number: 6\n",
      "1. login\n",
      "2. signup\n",
      "3. forget_password\n",
      "4. Exit\n",
      "enter your choice2\n",
      "ENTER USER NAME:sachin\n",
      "ENTER PASSWORD:········\n",
      "ENTER SECURITY CODE:········\n",
      "Initial amount of 5000/- is required to activate your account\n",
      "if you are agree enter yes(y) otherwise no(n): \n",
      "enter your choice y/n:y\n",
      "Account created successfully\n",
      "your account number is:  1001\n",
      "1. login\n",
      "2. signup\n",
      "3. forget_password\n",
      "4. Exit\n",
      "enter your choice4\n"
     ]
    }
   ],
   "source": [
    "def forget_password():\n",
    "    acc_no = int(input(\"enter account number: \"))\n",
    "    security_code = input(\"enter your security code: \")\n",
    "    if acc_no in data.keys() and security_code == data[acc_no][3]:\n",
    "        new_password = getpass(\"enter new password: \")\n",
    "        if password_validation(new_password):\n",
    "            data[acc_no][1] = new_password\n",
    "            print(\"password changed successfully\")\n",
    "        else:\n",
    "            print(\"password is not valid\")\n",
    "            \n",
    "    else:\n",
    "        print(\"account no / security code does not match\")\n",
    "        \n",
    "while True:\n",
    "    print(\"1. login\")\n",
    "    print(\"2. signup\")\n",
    "    print(\"3. forget_password\")\n",
    "    print(\"4. Exit\")\n",
    "    \n",
    "    choice = int(input(\"enter your choice\"))\n",
    "    if choice==1:\n",
    "        login()\n",
    "        \n",
    "    elif choice==2:\n",
    "        signup()\n",
    "        \n",
    "    elif choice==3:\n",
    "        forget_password()\n",
    "        \n",
    "    elif choice==4:\n",
    "        break\n",
    "        \n",
    "    else:\n",
    "        print(\"invalid choice\")\n"
   ]
  },
  {
   "cell_type": "code",
   "execution_count": null,
   "id": "f5d6ee48",
   "metadata": {},
   "outputs": [],
   "source": []
  },
  {
   "cell_type": "code",
   "execution_count": null,
   "id": "9810ef14",
   "metadata": {},
   "outputs": [],
   "source": []
  },
  {
   "cell_type": "code",
   "execution_count": null,
   "id": "90b6df68",
   "metadata": {},
   "outputs": [],
   "source": []
  }
 ],
 "metadata": {
  "kernelspec": {
   "display_name": "Python 3 (ipykernel)",
   "language": "python",
   "name": "python3"
  },
  "language_info": {
   "codemirror_mode": {
    "name": "ipython",
    "version": 3
   },
   "file_extension": ".py",
   "mimetype": "text/x-python",
   "name": "python",
   "nbconvert_exporter": "python",
   "pygments_lexer": "ipython3",
   "version": "3.10.9"
  }
 },
 "nbformat": 4,
 "nbformat_minor": 5
}
